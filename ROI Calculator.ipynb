{
 "cells": [
  {
   "cell_type": "markdown",
   "id": "5bbbfec3",
   "metadata": {},
   "source": [
    "#### ROI Calculator"
   ]
  },
  {
   "cell_type": "code",
   "execution_count": 6,
   "id": "dff8efc7",
   "metadata": {},
   "outputs": [],
   "source": [
    "class Rental_roi():\n",
    "    def __init__(self, income=0, expenses=0, monthly_cashflow=0, annual_cashflow=0, investment=0, roi=0):\n",
    "        self.income = income\n",
    "        self.expenses = expenses\n",
    "        self.monthly_cashflow = monthly_cashflow\n",
    "        self.annual_cashflow = annual_cashflow\n",
    "        self.investment = investment\n",
    "        self.roi = roi\n",
    "    \n",
    "    def user_income(self):\n",
    "        #User input for income\n",
    "        while True:\n",
    "            add_income = input('\\nWould you like to add a source of income? (Y/N) or \"List\" ').lower()\n",
    "            if add_income == 'list':\n",
    "                print('Rental\\nLaundry\\nStorage\\nMisc')\n",
    "                continue\n",
    "            if add_income == 'y':\n",
    "                source = input('\\nWhat source of income would you like to add? ')\n",
    "                source_cost = int(input('\\nHow much is this monthly income? '))\n",
    "            elif add_income == 'n':\n",
    "                break\n",
    "            else:\n",
    "                print('Please try again by inputing Y for yes and N for no')\n",
    "            self.income = source_cost\n",
    "    \n",
    "    def total_expenses(self):\n",
    "        #User input for expenses\n",
    "        while True:\n",
    "            ask_ex = input (\"\\nWould you like to add any expenses? (Y/N) or 'List' \").lower()\n",
    "            if ask_ex == 'list':\n",
    "                print('Tax\\nInsurance\\nUtilities(Electric, Water, Sewer, Garbage, Gas)\\nHOA\\nRepairs\\nMortgage')\n",
    "                continue\n",
    "            if ask_ex == 'y':\n",
    "                expense = input(\"What would you like to add?  \")\n",
    "                expense_amount = int(input(\"How much is this expense a month? \"))\n",
    "            elif ask_ex == 'n':\n",
    "                break\n",
    "            else:\n",
    "                print(\"Please try again by inputing Y for yes and N for no\")\n",
    "            self.expenses = expense_amount\n",
    "                \n",
    "    def yearly_cashflow(self):\n",
    "        #User total monthly cashflow\n",
    "        self.monthly_cashflow = self.income - self.expenses\n",
    "        self.annual_cashflow = self.monthly_cashflow * 12\n",
    "        print(f'Your monthly cash flow is {self.monthly_cashflow} and your annual cash flow is {self.annual_cashflow}')\n",
    "    \n",
    "    def total_investment(self):\n",
    "        down_payment = float(input(\"How much did you put for a down payment? \"))\n",
    "        closing_cost = float(input(\"How much were your closing costs? \"))\n",
    "        repair = float(input(\"How much were your repairs? \"))\n",
    "        self.investment = sum([down_payment, closing_cost, repair])\n",
    "        return self.investment\n",
    "        \n",
    "    def calc_roi(self):\n",
    "        self.roi = self.annual_cashflow / self.investment * 100\n",
    "        print(f'your total cash on cash ROI is %{self.roi:.2f}')\n",
    "\n",
    "def roi():\n",
    "    \n",
    "    rent = Rental_roi()\n",
    "    rent.user_income()\n",
    "    rent.total_expenses()\n",
    "    rent.yearly_cashflow()\n",
    "    rent.total_investment()\n",
    "    rent.calc_roi()"
   ]
  },
  {
   "cell_type": "code",
   "execution_count": 8,
   "id": "d319116c",
   "metadata": {},
   "outputs": [
    {
     "name": "stdout",
     "output_type": "stream",
     "text": [
      "\n",
      "Would you like to add a source of income? (Y/N) or \"List\" list\n",
      "Rental\n",
      "Laundry\n",
      "Storage\n",
      "Misc\n",
      "\n",
      "Would you like to add a source of income? (Y/N) or \"List\" y\n",
      "\n",
      "What source of income would you like to add? Rent\n",
      "\n",
      "How much is this monthly income? 1800\n",
      "\n",
      "Would you like to add a source of income? (Y/N) or \"List\" n\n",
      "\n",
      "Would you like to add any expenses? (Y/N) or 'List' list\n",
      "Tax\n",
      "Insurance\n",
      "Utilities(Electric, Water, Sewer, Garbage, Gas)\n",
      "HOA\n",
      "Repairs\n",
      "Mortgage\n",
      "\n",
      "Would you like to add any expenses? (Y/N) or 'List' y\n",
      "What would you like to add?  mortgage\n",
      "How much is this expense a month? 800\n",
      "\n",
      "Would you like to add any expenses? (Y/N) or 'List' n\n",
      "Your monthly cash flow is 1000 and your annual cash flow is 12000\n",
      "How much did you put for a down payment? 20000\n",
      "How much were your closing costs? 1000\n",
      "How much were your repairs? 5000\n",
      "your total cash on cash ROI is %46.15\n"
     ]
    }
   ],
   "source": [
    "roi()"
   ]
  },
  {
   "cell_type": "code",
   "execution_count": null,
   "id": "357cceb8",
   "metadata": {},
   "outputs": [],
   "source": []
  }
 ],
 "metadata": {
  "kernelspec": {
   "display_name": "Python 3 (ipykernel)",
   "language": "python",
   "name": "python3"
  },
  "language_info": {
   "codemirror_mode": {
    "name": "ipython",
    "version": 3
   },
   "file_extension": ".py",
   "mimetype": "text/x-python",
   "name": "python",
   "nbconvert_exporter": "python",
   "pygments_lexer": "ipython3",
   "version": "3.9.7"
  }
 },
 "nbformat": 4,
 "nbformat_minor": 5
}
